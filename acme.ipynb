{
  "nbformat": 4,
  "nbformat_minor": 0,
  "metadata": {
    "colab": {
      "name": "Untitled2.ipynb",
      "provenance": [],
      "authorship_tag": "ABX9TyMJAIn+WqStnxcQ64MrBtfk",
      "include_colab_link": true
    },
    "kernelspec": {
      "name": "python3",
      "display_name": "Python 3"
    }
  },
  "cells": [
    {
      "cell_type": "markdown",
      "metadata": {
        "id": "view-in-github",
        "colab_type": "text"
      },
      "source": [
        "<a href=\"https://colab.research.google.com/github/SathvikSat/ReinforcementLearning/blob/master/acme.ipynb\" target=\"_parent\"><img src=\"https://colab.research.google.com/assets/colab-badge.svg\" alt=\"Open In Colab\"/></a>"
      ]
    },
    {
      "cell_type": "code",
      "metadata": {
        "id": "jWhGGTxbbjVN",
        "colab_type": "code",
        "colab": {
          "base_uri": "https://localhost:8080/",
          "height": 386
        },
        "outputId": "e89bd9c5-ea19-412f-e94e-786585fba75d"
      },
      "source": [
        "!pip install --upgrade pip setuptools\n"
      ],
      "execution_count": 8,
      "outputs": [
        {
          "output_type": "stream",
          "text": [
            "Collecting pip\n",
            "\u001b[?25l  Downloading https://files.pythonhosted.org/packages/43/84/23ed6a1796480a6f1a2d38f2802901d078266bda38388954d01d3f2e821d/pip-20.1.1-py2.py3-none-any.whl (1.5MB)\n",
            "\u001b[K     |████████████████████████████████| 1.5MB 3.3MB/s \n",
            "\u001b[?25hCollecting setuptools\n",
            "\u001b[?25l  Downloading https://files.pythonhosted.org/packages/e9/93/4860cebd5ad3ff2664ad3c966490ccb46e3b88458b2095145bca11727ca4/setuptools-47.3.1-py3-none-any.whl (582kB)\n",
            "\u001b[K     |████████████████████████████████| 583kB 21.7MB/s \n",
            "\u001b[31mERROR: datascience 0.10.6 has requirement folium==0.2.1, but you'll have folium 0.8.3 which is incompatible.\u001b[0m\n",
            "\u001b[?25hInstalling collected packages: pip, setuptools\n",
            "  Found existing installation: pip 19.3.1\n",
            "    Uninstalling pip-19.3.1:\n",
            "      Successfully uninstalled pip-19.3.1\n",
            "  Found existing installation: setuptools 47.1.1\n",
            "    Uninstalling setuptools-47.1.1:\n",
            "      Successfully uninstalled setuptools-47.1.1\n",
            "Successfully installed pip-20.1.1 setuptools-47.3.1\n"
          ],
          "name": "stdout"
        },
        {
          "output_type": "display_data",
          "data": {
            "application/vnd.colab-display-data+json": {
              "pip_warning": {
                "packages": [
                  "pkg_resources"
                ]
              }
            }
          },
          "metadata": {
            "tags": []
          }
        }
      ]
    },
    {
      "cell_type": "code",
      "metadata": {
        "id": "67pYgQxWbl_U",
        "colab_type": "code",
        "colab": {
          "base_uri": "https://localhost:8080/",
          "height": 367
        },
        "outputId": "aa37507e-45cd-4eba-b7d1-da8ee949515b"
      },
      "source": [
        "pip install dm-acme"
      ],
      "execution_count": 1,
      "outputs": [
        {
          "output_type": "stream",
          "text": [
            "Collecting dm-acme\n",
            "  Downloading dm-acme-0.1.5.tar.gz (121 kB)\n",
            "\u001b[?25l\r\u001b[K     |██▊                             | 10 kB 23.2 MB/s eta 0:00:01\r\u001b[K     |█████▍                          | 20 kB 2.2 MB/s eta 0:00:01\r\u001b[K     |████████                        | 30 kB 2.8 MB/s eta 0:00:01\r\u001b[K     |██████████▊                     | 40 kB 2.1 MB/s eta 0:00:01\r\u001b[K     |█████████████▍                  | 51 kB 2.4 MB/s eta 0:00:01\r\u001b[K     |████████████████▏               | 61 kB 2.7 MB/s eta 0:00:01\r\u001b[K     |██████████████████▉             | 71 kB 3.0 MB/s eta 0:00:01\r\u001b[K     |█████████████████████▌          | 81 kB 3.3 MB/s eta 0:00:01\r\u001b[K     |████████████████████████▏       | 92 kB 3.0 MB/s eta 0:00:01\r\u001b[K     |██████████████████████████▉     | 102 kB 3.2 MB/s eta 0:00:01\r\u001b[K     |█████████████████████████████▋  | 112 kB 3.2 MB/s eta 0:00:01\r\u001b[K     |████████████████████████████████| 121 kB 3.2 MB/s \n",
            "\u001b[?25hRequirement already satisfied: absl-py in /usr/local/lib/python3.6/dist-packages (from dm-acme) (0.9.0)\n",
            "Collecting dm_env\n",
            "  Downloading dm_env-1.2-py3-none-any.whl (22 kB)\n",
            "Collecting dm-tree\n",
            "  Downloading dm_tree-0.1.5-cp36-cp36m-manylinux1_x86_64.whl (294 kB)\n",
            "\u001b[K     |████████████████████████████████| 294 kB 9.1 MB/s \n",
            "\u001b[?25hRequirement already satisfied: numpy in /usr/local/lib/python3.6/dist-packages (from dm-acme) (1.18.5)\n",
            "Requirement already satisfied: pillow in /usr/local/lib/python3.6/dist-packages (from dm-acme) (7.0.0)\n",
            "Requirement already satisfied: six in /usr/local/lib/python3.6/dist-packages (from absl-py->dm-acme) (1.12.0)\n",
            "Building wheels for collected packages: dm-acme\n",
            "  Building wheel for dm-acme (setup.py) ... \u001b[?25l\u001b[?25hdone\n",
            "  Created wheel for dm-acme: filename=dm_acme-0.1.5-py3-none-any.whl size=249566 sha256=99f1a11241fe33e20860026edbb20d122ac3e2a6f2aaf5f99ea5f02d617c5ca1\n",
            "  Stored in directory: /root/.cache/pip/wheels/09/c7/2e/d323b1e41ec3ea9752feaf594deec751a7ed630db48fb8a5af\n",
            "Successfully built dm-acme\n",
            "Installing collected packages: dm-tree, dm-env, dm-acme\n",
            "Successfully installed dm-acme-0.1.5 dm-env-1.2 dm-tree-0.1.5\n"
          ],
          "name": "stdout"
        }
      ]
    },
    {
      "cell_type": "code",
      "metadata": {
        "id": "uuDWFWy4b45t",
        "colab_type": "code",
        "colab": {
          "base_uri": "https://localhost:8080/",
          "height": 957
        },
        "outputId": "48b7104d-29e4-42ae-c708-6ec4f5d228b3"
      },
      "source": [
        "!pip install dm-acme[reverb]"
      ],
      "execution_count": 2,
      "outputs": [
        {
          "output_type": "stream",
          "text": [
            "Requirement already satisfied: dm-acme[reverb] in /usr/local/lib/python3.6/dist-packages (0.1.5)\n",
            "Requirement already satisfied: absl-py in /usr/local/lib/python3.6/dist-packages (from dm-acme[reverb]) (0.9.0)\n",
            "Requirement already satisfied: dm-env in /usr/local/lib/python3.6/dist-packages (from dm-acme[reverb]) (1.2)\n",
            "Requirement already satisfied: pillow in /usr/local/lib/python3.6/dist-packages (from dm-acme[reverb]) (7.0.0)\n",
            "Requirement already satisfied: numpy in /usr/local/lib/python3.6/dist-packages (from dm-acme[reverb]) (1.18.5)\n",
            "Requirement already satisfied: dm-tree in /usr/local/lib/python3.6/dist-packages (from dm-acme[reverb]) (0.1.5)\n",
            "Collecting tf-nightly==2.3.0.dev20200604; extra == \"reverb\"\n",
            "  Downloading tf_nightly-2.3.0.dev20200604-cp36-cp36m-manylinux2010_x86_64.whl (526.2 MB)\n",
            "\u001b[K     |████████████████████████████████| 526.2 MB 8.5 kB/s \n",
            "\u001b[?25hCollecting dm-reverb-nightly==0.1.0.dev20200605; extra == \"reverb\"\n",
            "  Downloading dm_reverb_nightly-0.1.0.dev20200605-cp36-cp36m-manylinux2010_x86_64.whl (6.1 MB)\n",
            "\u001b[K     |████████████████████████████████| 6.1 MB 33.9 MB/s \n",
            "\u001b[?25hRequirement already satisfied: six in /usr/local/lib/python3.6/dist-packages (from absl-py->dm-acme[reverb]) (1.12.0)\n",
            "Requirement already satisfied: wrapt>=1.11.1 in /usr/local/lib/python3.6/dist-packages (from tf-nightly==2.3.0.dev20200604; extra == \"reverb\"->dm-acme[reverb]) (1.12.1)\n",
            "Requirement already satisfied: termcolor>=1.1.0 in /usr/local/lib/python3.6/dist-packages (from tf-nightly==2.3.0.dev20200604; extra == \"reverb\"->dm-acme[reverb]) (1.1.0)\n",
            "Requirement already satisfied: gast==0.3.3 in /usr/local/lib/python3.6/dist-packages (from tf-nightly==2.3.0.dev20200604; extra == \"reverb\"->dm-acme[reverb]) (0.3.3)\n",
            "Requirement already satisfied: scipy==1.4.1 in /usr/local/lib/python3.6/dist-packages (from tf-nightly==2.3.0.dev20200604; extra == \"reverb\"->dm-acme[reverb]) (1.4.1)\n",
            "Requirement already satisfied: grpcio>=1.8.6 in /usr/local/lib/python3.6/dist-packages (from tf-nightly==2.3.0.dev20200604; extra == \"reverb\"->dm-acme[reverb]) (1.29.0)\n",
            "Collecting tf-estimator-nightly\n",
            "  Downloading tf_estimator_nightly-2.3.0.dev2020061701-py2.py3-none-any.whl (459 kB)\n",
            "\u001b[K     |████████████████████████████████| 459 kB 51.4 MB/s \n",
            "\u001b[?25hRequirement already satisfied: protobuf>=3.9.2 in /usr/local/lib/python3.6/dist-packages (from tf-nightly==2.3.0.dev20200604; extra == \"reverb\"->dm-acme[reverb]) (3.10.0)\n",
            "Requirement already satisfied: opt-einsum>=2.3.2 in /usr/local/lib/python3.6/dist-packages (from tf-nightly==2.3.0.dev20200604; extra == \"reverb\"->dm-acme[reverb]) (3.2.1)\n",
            "Requirement already satisfied: wheel>=0.26 in /usr/local/lib/python3.6/dist-packages (from tf-nightly==2.3.0.dev20200604; extra == \"reverb\"->dm-acme[reverb]) (0.34.2)\n",
            "Requirement already satisfied: keras-preprocessing<1.2,>=1.1.1 in /usr/local/lib/python3.6/dist-packages (from tf-nightly==2.3.0.dev20200604; extra == \"reverb\"->dm-acme[reverb]) (1.1.2)\n",
            "Collecting tb-nightly<2.4.0a0,>=2.3.0a0\n",
            "  Downloading tb_nightly-2.3.0a20200615-py3-none-any.whl (3.0 MB)\n",
            "\u001b[K     |████████████████████████████████| 3.0 MB 55.7 MB/s \n",
            "\u001b[?25hRequirement already satisfied: astunparse==1.6.3 in /usr/local/lib/python3.6/dist-packages (from tf-nightly==2.3.0.dev20200604; extra == \"reverb\"->dm-acme[reverb]) (1.6.3)\n",
            "Requirement already satisfied: h5py<2.11.0,>=2.10.0 in /usr/local/lib/python3.6/dist-packages (from tf-nightly==2.3.0.dev20200604; extra == \"reverb\"->dm-acme[reverb]) (2.10.0)\n",
            "Requirement already satisfied: google-pasta>=0.1.8 in /usr/local/lib/python3.6/dist-packages (from tf-nightly==2.3.0.dev20200604; extra == \"reverb\"->dm-acme[reverb]) (0.2.0)\n",
            "Requirement already satisfied: portpicker in /usr/local/lib/python3.6/dist-packages (from dm-reverb-nightly==0.1.0.dev20200605; extra == \"reverb\"->dm-acme[reverb]) (1.3.1)\n",
            "Requirement already satisfied: setuptools in /usr/local/lib/python3.6/dist-packages (from protobuf>=3.9.2->tf-nightly==2.3.0.dev20200604; extra == \"reverb\"->dm-acme[reverb]) (47.3.1)\n",
            "Requirement already satisfied: werkzeug>=0.11.15 in /usr/local/lib/python3.6/dist-packages (from tb-nightly<2.4.0a0,>=2.3.0a0->tf-nightly==2.3.0.dev20200604; extra == \"reverb\"->dm-acme[reverb]) (1.0.1)\n",
            "Requirement already satisfied: tensorboard-plugin-wit>=1.6.0 in /usr/local/lib/python3.6/dist-packages (from tb-nightly<2.4.0a0,>=2.3.0a0->tf-nightly==2.3.0.dev20200604; extra == \"reverb\"->dm-acme[reverb]) (1.6.0.post3)\n",
            "Requirement already satisfied: google-auth<2,>=1.6.3 in /usr/local/lib/python3.6/dist-packages (from tb-nightly<2.4.0a0,>=2.3.0a0->tf-nightly==2.3.0.dev20200604; extra == \"reverb\"->dm-acme[reverb]) (1.17.2)\n",
            "Requirement already satisfied: requests<3,>=2.21.0 in /usr/local/lib/python3.6/dist-packages (from tb-nightly<2.4.0a0,>=2.3.0a0->tf-nightly==2.3.0.dev20200604; extra == \"reverb\"->dm-acme[reverb]) (2.23.0)\n",
            "Requirement already satisfied: google-auth-oauthlib<0.5,>=0.4.1 in /usr/local/lib/python3.6/dist-packages (from tb-nightly<2.4.0a0,>=2.3.0a0->tf-nightly==2.3.0.dev20200604; extra == \"reverb\"->dm-acme[reverb]) (0.4.1)\n",
            "Requirement already satisfied: markdown>=2.6.8 in /usr/local/lib/python3.6/dist-packages (from tb-nightly<2.4.0a0,>=2.3.0a0->tf-nightly==2.3.0.dev20200604; extra == \"reverb\"->dm-acme[reverb]) (3.2.2)\n",
            "Requirement already satisfied: pyasn1-modules>=0.2.1 in /usr/local/lib/python3.6/dist-packages (from google-auth<2,>=1.6.3->tb-nightly<2.4.0a0,>=2.3.0a0->tf-nightly==2.3.0.dev20200604; extra == \"reverb\"->dm-acme[reverb]) (0.2.8)\n",
            "Requirement already satisfied: rsa<5,>=3.1.4; python_version >= \"3\" in /usr/local/lib/python3.6/dist-packages (from google-auth<2,>=1.6.3->tb-nightly<2.4.0a0,>=2.3.0a0->tf-nightly==2.3.0.dev20200604; extra == \"reverb\"->dm-acme[reverb]) (4.6)\n",
            "Requirement already satisfied: cachetools<5.0,>=2.0.0 in /usr/local/lib/python3.6/dist-packages (from google-auth<2,>=1.6.3->tb-nightly<2.4.0a0,>=2.3.0a0->tf-nightly==2.3.0.dev20200604; extra == \"reverb\"->dm-acme[reverb]) (4.1.0)\n",
            "Requirement already satisfied: certifi>=2017.4.17 in /usr/local/lib/python3.6/dist-packages (from requests<3,>=2.21.0->tb-nightly<2.4.0a0,>=2.3.0a0->tf-nightly==2.3.0.dev20200604; extra == \"reverb\"->dm-acme[reverb]) (2020.4.5.2)\n",
            "Requirement already satisfied: idna<3,>=2.5 in /usr/local/lib/python3.6/dist-packages (from requests<3,>=2.21.0->tb-nightly<2.4.0a0,>=2.3.0a0->tf-nightly==2.3.0.dev20200604; extra == \"reverb\"->dm-acme[reverb]) (2.9)\n",
            "Requirement already satisfied: chardet<4,>=3.0.2 in /usr/local/lib/python3.6/dist-packages (from requests<3,>=2.21.0->tb-nightly<2.4.0a0,>=2.3.0a0->tf-nightly==2.3.0.dev20200604; extra == \"reverb\"->dm-acme[reverb]) (3.0.4)\n",
            "Requirement already satisfied: urllib3!=1.25.0,!=1.25.1,<1.26,>=1.21.1 in /usr/local/lib/python3.6/dist-packages (from requests<3,>=2.21.0->tb-nightly<2.4.0a0,>=2.3.0a0->tf-nightly==2.3.0.dev20200604; extra == \"reverb\"->dm-acme[reverb]) (1.24.3)\n",
            "Requirement already satisfied: requests-oauthlib>=0.7.0 in /usr/local/lib/python3.6/dist-packages (from google-auth-oauthlib<0.5,>=0.4.1->tb-nightly<2.4.0a0,>=2.3.0a0->tf-nightly==2.3.0.dev20200604; extra == \"reverb\"->dm-acme[reverb]) (1.3.0)\n",
            "Requirement already satisfied: importlib-metadata; python_version < \"3.8\" in /usr/local/lib/python3.6/dist-packages (from markdown>=2.6.8->tb-nightly<2.4.0a0,>=2.3.0a0->tf-nightly==2.3.0.dev20200604; extra == \"reverb\"->dm-acme[reverb]) (1.6.1)\n",
            "Requirement already satisfied: pyasn1<0.5.0,>=0.4.6 in /usr/local/lib/python3.6/dist-packages (from pyasn1-modules>=0.2.1->google-auth<2,>=1.6.3->tb-nightly<2.4.0a0,>=2.3.0a0->tf-nightly==2.3.0.dev20200604; extra == \"reverb\"->dm-acme[reverb]) (0.4.8)\n",
            "Requirement already satisfied: oauthlib>=3.0.0 in /usr/local/lib/python3.6/dist-packages (from requests-oauthlib>=0.7.0->google-auth-oauthlib<0.5,>=0.4.1->tb-nightly<2.4.0a0,>=2.3.0a0->tf-nightly==2.3.0.dev20200604; extra == \"reverb\"->dm-acme[reverb]) (3.1.0)\n",
            "Requirement already satisfied: zipp>=0.5 in /usr/local/lib/python3.6/dist-packages (from importlib-metadata; python_version < \"3.8\"->markdown>=2.6.8->tb-nightly<2.4.0a0,>=2.3.0a0->tf-nightly==2.3.0.dev20200604; extra == \"reverb\"->dm-acme[reverb]) (3.1.0)\n",
            "Installing collected packages: tf-estimator-nightly, tb-nightly, tf-nightly, dm-reverb-nightly\n",
            "Successfully installed dm-reverb-nightly-0.1.0.dev20200605 tb-nightly-2.3.0a20200615 tf-estimator-nightly-2.3.0.dev2020061701 tf-nightly-2.3.0.dev20200604\n"
          ],
          "name": "stdout"
        }
      ]
    },
    {
      "cell_type": "code",
      "metadata": {
        "id": "9FiEK98WdjdR",
        "colab_type": "code",
        "colab": {
          "base_uri": "https://localhost:8080/",
          "height": 992
        },
        "outputId": "267222ff-3620-4e57-bf9f-38372754cd06"
      },
      "source": [
        "!pip install dm-acme[tf]"
      ],
      "execution_count": 3,
      "outputs": [
        {
          "output_type": "stream",
          "text": [
            "Requirement already satisfied: dm-acme[tf] in /usr/local/lib/python3.6/dist-packages (0.1.5)\n",
            "Requirement already satisfied: dm-tree in /usr/local/lib/python3.6/dist-packages (from dm-acme[tf]) (0.1.5)\n",
            "Requirement already satisfied: pillow in /usr/local/lib/python3.6/dist-packages (from dm-acme[tf]) (7.0.0)\n",
            "Requirement already satisfied: dm-env in /usr/local/lib/python3.6/dist-packages (from dm-acme[tf]) (1.2)\n",
            "Requirement already satisfied: absl-py in /usr/local/lib/python3.6/dist-packages (from dm-acme[tf]) (0.9.0)\n",
            "Requirement already satisfied: numpy in /usr/local/lib/python3.6/dist-packages (from dm-acme[tf]) (1.18.5)\n",
            "Collecting tfp-nightly; extra == \"tf\"\n",
            "  Downloading tfp_nightly-0.11.0.dev20200617-py2.py3-none-any.whl (4.0 MB)\n",
            "\u001b[K     |████████████████████████████████| 4.0 MB 3.4 MB/s \n",
            "\u001b[?25hCollecting dm-sonnet; extra == \"tf\"\n",
            "  Downloading dm_sonnet-2.0.0-py3-none-any.whl (254 kB)\n",
            "\u001b[K     |████████████████████████████████| 254 kB 32.6 MB/s \n",
            "\u001b[?25hCollecting trfl; extra == \"tf\"\n",
            "  Downloading trfl-1.1.0-py3-none-any.whl (99 kB)\n",
            "\u001b[K     |████████████████████████████████| 99 kB 7.7 MB/s \n",
            "\u001b[?25hRequirement already satisfied: tf-nightly==2.3.0.dev20200604; extra == \"tf\" in /usr/local/lib/python3.6/dist-packages (from dm-acme[tf]) (2.3.0.dev20200604)\n",
            "Requirement already satisfied: six>=1.12.0 in /usr/local/lib/python3.6/dist-packages (from dm-tree->dm-acme[tf]) (1.12.0)\n",
            "Requirement already satisfied: cloudpickle==1.3 in /usr/local/lib/python3.6/dist-packages (from tfp-nightly; extra == \"tf\"->dm-acme[tf]) (1.3.0)\n",
            "Requirement already satisfied: decorator in /usr/local/lib/python3.6/dist-packages (from tfp-nightly; extra == \"tf\"->dm-acme[tf]) (4.4.2)\n",
            "Requirement already satisfied: gast>=0.3.2 in /usr/local/lib/python3.6/dist-packages (from tfp-nightly; extra == \"tf\"->dm-acme[tf]) (0.3.3)\n",
            "Requirement already satisfied: tabulate>=0.7.5 in /usr/local/lib/python3.6/dist-packages (from dm-sonnet; extra == \"tf\"->dm-acme[tf]) (0.8.7)\n",
            "Requirement already satisfied: wrapt>=1.11.1 in /usr/local/lib/python3.6/dist-packages (from dm-sonnet; extra == \"tf\"->dm-acme[tf]) (1.12.1)\n",
            "Requirement already satisfied: google-pasta>=0.1.8 in /usr/local/lib/python3.6/dist-packages (from tf-nightly==2.3.0.dev20200604; extra == \"tf\"->dm-acme[tf]) (0.2.0)\n",
            "Requirement already satisfied: termcolor>=1.1.0 in /usr/local/lib/python3.6/dist-packages (from tf-nightly==2.3.0.dev20200604; extra == \"tf\"->dm-acme[tf]) (1.1.0)\n",
            "Requirement already satisfied: tb-nightly<2.4.0a0,>=2.3.0a0 in /usr/local/lib/python3.6/dist-packages (from tf-nightly==2.3.0.dev20200604; extra == \"tf\"->dm-acme[tf]) (2.3.0a20200615)\n",
            "Requirement already satisfied: astunparse==1.6.3 in /usr/local/lib/python3.6/dist-packages (from tf-nightly==2.3.0.dev20200604; extra == \"tf\"->dm-acme[tf]) (1.6.3)\n",
            "Requirement already satisfied: scipy==1.4.1 in /usr/local/lib/python3.6/dist-packages (from tf-nightly==2.3.0.dev20200604; extra == \"tf\"->dm-acme[tf]) (1.4.1)\n",
            "Requirement already satisfied: tf-estimator-nightly in /usr/local/lib/python3.6/dist-packages (from tf-nightly==2.3.0.dev20200604; extra == \"tf\"->dm-acme[tf]) (2.3.0.dev2020061701)\n",
            "Requirement already satisfied: h5py<2.11.0,>=2.10.0 in /usr/local/lib/python3.6/dist-packages (from tf-nightly==2.3.0.dev20200604; extra == \"tf\"->dm-acme[tf]) (2.10.0)\n",
            "Requirement already satisfied: wheel>=0.26 in /usr/local/lib/python3.6/dist-packages (from tf-nightly==2.3.0.dev20200604; extra == \"tf\"->dm-acme[tf]) (0.34.2)\n",
            "Requirement already satisfied: keras-preprocessing<1.2,>=1.1.1 in /usr/local/lib/python3.6/dist-packages (from tf-nightly==2.3.0.dev20200604; extra == \"tf\"->dm-acme[tf]) (1.1.2)\n",
            "Requirement already satisfied: protobuf>=3.9.2 in /usr/local/lib/python3.6/dist-packages (from tf-nightly==2.3.0.dev20200604; extra == \"tf\"->dm-acme[tf]) (3.10.0)\n",
            "Requirement already satisfied: grpcio>=1.8.6 in /usr/local/lib/python3.6/dist-packages (from tf-nightly==2.3.0.dev20200604; extra == \"tf\"->dm-acme[tf]) (1.29.0)\n",
            "Requirement already satisfied: opt-einsum>=2.3.2 in /usr/local/lib/python3.6/dist-packages (from tf-nightly==2.3.0.dev20200604; extra == \"tf\"->dm-acme[tf]) (3.2.1)\n",
            "Requirement already satisfied: setuptools>=41.0.0 in /usr/local/lib/python3.6/dist-packages (from tb-nightly<2.4.0a0,>=2.3.0a0->tf-nightly==2.3.0.dev20200604; extra == \"tf\"->dm-acme[tf]) (47.3.1)\n",
            "Requirement already satisfied: tensorboard-plugin-wit>=1.6.0 in /usr/local/lib/python3.6/dist-packages (from tb-nightly<2.4.0a0,>=2.3.0a0->tf-nightly==2.3.0.dev20200604; extra == \"tf\"->dm-acme[tf]) (1.6.0.post3)\n",
            "Requirement already satisfied: requests<3,>=2.21.0 in /usr/local/lib/python3.6/dist-packages (from tb-nightly<2.4.0a0,>=2.3.0a0->tf-nightly==2.3.0.dev20200604; extra == \"tf\"->dm-acme[tf]) (2.23.0)\n",
            "Requirement already satisfied: werkzeug>=0.11.15 in /usr/local/lib/python3.6/dist-packages (from tb-nightly<2.4.0a0,>=2.3.0a0->tf-nightly==2.3.0.dev20200604; extra == \"tf\"->dm-acme[tf]) (1.0.1)\n",
            "Requirement already satisfied: markdown>=2.6.8 in /usr/local/lib/python3.6/dist-packages (from tb-nightly<2.4.0a0,>=2.3.0a0->tf-nightly==2.3.0.dev20200604; extra == \"tf\"->dm-acme[tf]) (3.2.2)\n",
            "Requirement already satisfied: google-auth<2,>=1.6.3 in /usr/local/lib/python3.6/dist-packages (from tb-nightly<2.4.0a0,>=2.3.0a0->tf-nightly==2.3.0.dev20200604; extra == \"tf\"->dm-acme[tf]) (1.17.2)\n",
            "Requirement already satisfied: google-auth-oauthlib<0.5,>=0.4.1 in /usr/local/lib/python3.6/dist-packages (from tb-nightly<2.4.0a0,>=2.3.0a0->tf-nightly==2.3.0.dev20200604; extra == \"tf\"->dm-acme[tf]) (0.4.1)\n",
            "Requirement already satisfied: certifi>=2017.4.17 in /usr/local/lib/python3.6/dist-packages (from requests<3,>=2.21.0->tb-nightly<2.4.0a0,>=2.3.0a0->tf-nightly==2.3.0.dev20200604; extra == \"tf\"->dm-acme[tf]) (2020.4.5.2)\n",
            "Requirement already satisfied: idna<3,>=2.5 in /usr/local/lib/python3.6/dist-packages (from requests<3,>=2.21.0->tb-nightly<2.4.0a0,>=2.3.0a0->tf-nightly==2.3.0.dev20200604; extra == \"tf\"->dm-acme[tf]) (2.9)\n",
            "Requirement already satisfied: urllib3!=1.25.0,!=1.25.1,<1.26,>=1.21.1 in /usr/local/lib/python3.6/dist-packages (from requests<3,>=2.21.0->tb-nightly<2.4.0a0,>=2.3.0a0->tf-nightly==2.3.0.dev20200604; extra == \"tf\"->dm-acme[tf]) (1.24.3)\n",
            "Requirement already satisfied: chardet<4,>=3.0.2 in /usr/local/lib/python3.6/dist-packages (from requests<3,>=2.21.0->tb-nightly<2.4.0a0,>=2.3.0a0->tf-nightly==2.3.0.dev20200604; extra == \"tf\"->dm-acme[tf]) (3.0.4)\n",
            "Requirement already satisfied: importlib-metadata; python_version < \"3.8\" in /usr/local/lib/python3.6/dist-packages (from markdown>=2.6.8->tb-nightly<2.4.0a0,>=2.3.0a0->tf-nightly==2.3.0.dev20200604; extra == \"tf\"->dm-acme[tf]) (1.6.1)\n",
            "Requirement already satisfied: pyasn1-modules>=0.2.1 in /usr/local/lib/python3.6/dist-packages (from google-auth<2,>=1.6.3->tb-nightly<2.4.0a0,>=2.3.0a0->tf-nightly==2.3.0.dev20200604; extra == \"tf\"->dm-acme[tf]) (0.2.8)\n",
            "Requirement already satisfied: cachetools<5.0,>=2.0.0 in /usr/local/lib/python3.6/dist-packages (from google-auth<2,>=1.6.3->tb-nightly<2.4.0a0,>=2.3.0a0->tf-nightly==2.3.0.dev20200604; extra == \"tf\"->dm-acme[tf]) (4.1.0)\n",
            "Requirement already satisfied: rsa<5,>=3.1.4; python_version >= \"3\" in /usr/local/lib/python3.6/dist-packages (from google-auth<2,>=1.6.3->tb-nightly<2.4.0a0,>=2.3.0a0->tf-nightly==2.3.0.dev20200604; extra == \"tf\"->dm-acme[tf]) (4.6)\n",
            "Requirement already satisfied: requests-oauthlib>=0.7.0 in /usr/local/lib/python3.6/dist-packages (from google-auth-oauthlib<0.5,>=0.4.1->tb-nightly<2.4.0a0,>=2.3.0a0->tf-nightly==2.3.0.dev20200604; extra == \"tf\"->dm-acme[tf]) (1.3.0)\n",
            "Requirement already satisfied: zipp>=0.5 in /usr/local/lib/python3.6/dist-packages (from importlib-metadata; python_version < \"3.8\"->markdown>=2.6.8->tb-nightly<2.4.0a0,>=2.3.0a0->tf-nightly==2.3.0.dev20200604; extra == \"tf\"->dm-acme[tf]) (3.1.0)\n",
            "Requirement already satisfied: pyasn1<0.5.0,>=0.4.6 in /usr/local/lib/python3.6/dist-packages (from pyasn1-modules>=0.2.1->google-auth<2,>=1.6.3->tb-nightly<2.4.0a0,>=2.3.0a0->tf-nightly==2.3.0.dev20200604; extra == \"tf\"->dm-acme[tf]) (0.4.8)\n",
            "Requirement already satisfied: oauthlib>=3.0.0 in /usr/local/lib/python3.6/dist-packages (from requests-oauthlib>=0.7.0->google-auth-oauthlib<0.5,>=0.4.1->tb-nightly<2.4.0a0,>=2.3.0a0->tf-nightly==2.3.0.dev20200604; extra == \"tf\"->dm-acme[tf]) (3.1.0)\n",
            "Installing collected packages: tfp-nightly, dm-sonnet, trfl\n",
            "Successfully installed dm-sonnet-2.0.0 tfp-nightly-0.11.0.dev20200617 trfl-1.1.0\n"
          ],
          "name": "stdout"
        }
      ]
    },
    {
      "cell_type": "code",
      "metadata": {
        "id": "iv5Gtd88dr99",
        "colab_type": "code",
        "colab": {
          "base_uri": "https://localhost:8080/",
          "height": 471
        },
        "outputId": "5d11ec1c-929b-432a-9e0a-c913e6ec4a3e"
      },
      "source": [
        "!pip install dm-acme[jax]"
      ],
      "execution_count": 4,
      "outputs": [
        {
          "output_type": "stream",
          "text": [
            "Requirement already satisfied: dm-acme[jax] in /usr/local/lib/python3.6/dist-packages (0.1.5)\n",
            "Requirement already satisfied: absl-py in /usr/local/lib/python3.6/dist-packages (from dm-acme[jax]) (0.9.0)\n",
            "Requirement already satisfied: numpy in /usr/local/lib/python3.6/dist-packages (from dm-acme[jax]) (1.18.5)\n",
            "Requirement already satisfied: dm-tree in /usr/local/lib/python3.6/dist-packages (from dm-acme[jax]) (0.1.5)\n",
            "Requirement already satisfied: dm-env in /usr/local/lib/python3.6/dist-packages (from dm-acme[jax]) (1.2)\n",
            "Requirement already satisfied: pillow in /usr/local/lib/python3.6/dist-packages (from dm-acme[jax]) (7.0.0)\n",
            "Collecting rlax@ git+git://github.com/deepmind/rlax.git#egg=rlax ; extra == \"jax\"\n",
            "  Cloning git://github.com/deepmind/rlax.git to /tmp/pip-install-pi8n09je/rlax\n",
            "  Running command git clone -q git://github.com/deepmind/rlax.git /tmp/pip-install-pi8n09je/rlax\n",
            "Collecting dm-haiku; extra == \"jax\"\n",
            "  Downloading dm_haiku-0.0.1-py3-none-any.whl (229 kB)\n",
            "\u001b[K     |████████████████████████████████| 229 kB 3.2 MB/s \n",
            "\u001b[?25hRequirement already satisfied: jaxlib; extra == \"jax\" in /usr/local/lib/python3.6/dist-packages (from dm-acme[jax]) (0.1.47)\n",
            "Requirement already satisfied: jax; extra == \"jax\" in /usr/local/lib/python3.6/dist-packages (from dm-acme[jax]) (0.1.69)\n",
            "Requirement already satisfied: dataclasses; extra == \"jax\" in /usr/local/lib/python3.6/dist-packages (from dm-acme[jax]) (0.7)\n",
            "Requirement already satisfied: six in /usr/local/lib/python3.6/dist-packages (from absl-py->dm-acme[jax]) (1.12.0)\n",
            "Requirement already satisfied: scipy in /usr/local/lib/python3.6/dist-packages (from jaxlib; extra == \"jax\"->dm-acme[jax]) (1.4.1)\n",
            "Requirement already satisfied: opt-einsum in /usr/local/lib/python3.6/dist-packages (from jax; extra == \"jax\"->dm-acme[jax]) (3.2.1)\n",
            "Building wheels for collected packages: rlax\n",
            "  Building wheel for rlax (setup.py) ... \u001b[?25l\u001b[?25hdone\n",
            "  Created wheel for rlax: filename=rlax-0.0.1-py3-none-any.whl size=75452 sha256=61035f4d9c94d37078e962d6706c5743b4088965c8367123c7bdf48ac03bb29e\n",
            "  Stored in directory: /tmp/pip-ephem-wheel-cache-tcy8jlfg/wheels/46/8d/6c/25209256fab3bc92c862a98c00e3507bb5873fafa4dd5955e5\n",
            "Successfully built rlax\n",
            "Installing collected packages: rlax, dm-haiku\n",
            "Successfully installed dm-haiku-0.0.1 rlax-0.0.1\n"
          ],
          "name": "stdout"
        }
      ]
    },
    {
      "cell_type": "code",
      "metadata": {
        "id": "hHaXYGdWdvAn",
        "colab_type": "code",
        "colab": {
          "base_uri": "https://localhost:8080/",
          "height": 992
        },
        "outputId": "08ddf744-2884-45c2-a055-95d10afbb8ba"
      },
      "source": [
        "!pip install dm-acme[envs]"
      ],
      "execution_count": 5,
      "outputs": [
        {
          "output_type": "stream",
          "text": [
            "Requirement already satisfied: dm-acme[envs] in /usr/local/lib/python3.6/dist-packages (0.1.5)\n",
            "Requirement already satisfied: numpy in /usr/local/lib/python3.6/dist-packages (from dm-acme[envs]) (1.18.5)\n",
            "Requirement already satisfied: dm-tree in /usr/local/lib/python3.6/dist-packages (from dm-acme[envs]) (0.1.5)\n",
            "Requirement already satisfied: dm-env in /usr/local/lib/python3.6/dist-packages (from dm-acme[envs]) (1.2)\n",
            "Requirement already satisfied: pillow in /usr/local/lib/python3.6/dist-packages (from dm-acme[envs]) (7.0.0)\n",
            "Requirement already satisfied: absl-py in /usr/local/lib/python3.6/dist-packages (from dm-acme[envs]) (0.9.0)\n",
            "Requirement already satisfied: gym; extra == \"envs\" in /usr/local/lib/python3.6/dist-packages (from dm-acme[envs]) (0.17.2)\n",
            "Collecting bsuite@ git+git://github.com/deepmind/bsuite.git#egg=bsuite ; extra == \"envs\"\n",
            "  Cloning git://github.com/deepmind/bsuite.git to /tmp/pip-install-qrm4hto0/bsuite\n",
            "  Running command git clone -q git://github.com/deepmind/bsuite.git /tmp/pip-install-qrm4hto0/bsuite\n",
            "Collecting dm-control; extra == \"envs\"\n",
            "  Downloading dm_control-0.0.300771433-py3-none-any.whl (6.1 MB)\n",
            "\u001b[K     |████████████████████████████████| 6.1 MB 3.2 MB/s \n",
            "\u001b[?25hRequirement already satisfied: six>=1.12.0 in /usr/local/lib/python3.6/dist-packages (from dm-tree->dm-acme[envs]) (1.12.0)\n",
            "Requirement already satisfied: pyglet<=1.5.0,>=1.4.0 in /usr/local/lib/python3.6/dist-packages (from gym; extra == \"envs\"->dm-acme[envs]) (1.5.0)\n",
            "Requirement already satisfied: scipy in /usr/local/lib/python3.6/dist-packages (from gym; extra == \"envs\"->dm-acme[envs]) (1.4.1)\n",
            "Requirement already satisfied: cloudpickle<1.4.0,>=1.2.0 in /usr/local/lib/python3.6/dist-packages (from gym; extra == \"envs\"->dm-acme[envs]) (1.3.0)\n",
            "Collecting frozendict\n",
            "  Downloading frozendict-1.2.tar.gz (2.6 kB)\n",
            "Requirement already satisfied: matplotlib in /usr/local/lib/python3.6/dist-packages (from bsuite@ git+git://github.com/deepmind/bsuite.git#egg=bsuite ; extra == \"envs\"->dm-acme[envs]) (3.2.1)\n",
            "Requirement already satisfied: pandas in /usr/local/lib/python3.6/dist-packages (from bsuite@ git+git://github.com/deepmind/bsuite.git#egg=bsuite ; extra == \"envs\"->dm-acme[envs]) (1.0.4)\n",
            "Requirement already satisfied: plotnine in /usr/local/lib/python3.6/dist-packages (from bsuite@ git+git://github.com/deepmind/bsuite.git#egg=bsuite ; extra == \"envs\"->dm-acme[envs]) (0.6.0)\n",
            "Requirement already satisfied: scikit-image in /usr/local/lib/python3.6/dist-packages (from bsuite@ git+git://github.com/deepmind/bsuite.git#egg=bsuite ; extra == \"envs\"->dm-acme[envs]) (0.16.2)\n",
            "Requirement already satisfied: termcolor in /usr/local/lib/python3.6/dist-packages (from bsuite@ git+git://github.com/deepmind/bsuite.git#egg=bsuite ; extra == \"envs\"->dm-acme[envs]) (1.1.0)\n",
            "Requirement already satisfied: pyopengl>=3.1.4 in /usr/local/lib/python3.6/dist-packages (from dm-control; extra == \"envs\"->dm-acme[envs]) (3.1.5)\n",
            "Requirement already satisfied: pyparsing in /usr/local/lib/python3.6/dist-packages (from dm-control; extra == \"envs\"->dm-acme[envs]) (2.4.7)\n",
            "Collecting glfw\n",
            "  Downloading glfw-1.11.2-py2.py27.py3.py30.py31.py32.py33.py34.py35.py36.py37.py38-none-manylinux2014_x86_64.whl (203 kB)\n",
            "\u001b[K     |████████████████████████████████| 203 kB 52.0 MB/s \n",
            "\u001b[?25hRequirement already satisfied: future in /usr/local/lib/python3.6/dist-packages (from dm-control; extra == \"envs\"->dm-acme[envs]) (0.16.0)\n",
            "Requirement already satisfied: setuptools in /usr/local/lib/python3.6/dist-packages (from dm-control; extra == \"envs\"->dm-acme[envs]) (47.3.1)\n",
            "Requirement already satisfied: lxml in /usr/local/lib/python3.6/dist-packages (from dm-control; extra == \"envs\"->dm-acme[envs]) (4.2.6)\n",
            "Requirement already satisfied: cycler>=0.10 in /usr/local/lib/python3.6/dist-packages (from matplotlib->bsuite@ git+git://github.com/deepmind/bsuite.git#egg=bsuite ; extra == \"envs\"->dm-acme[envs]) (0.10.0)\n",
            "Requirement already satisfied: python-dateutil>=2.1 in /usr/local/lib/python3.6/dist-packages (from matplotlib->bsuite@ git+git://github.com/deepmind/bsuite.git#egg=bsuite ; extra == \"envs\"->dm-acme[envs]) (2.8.1)\n",
            "Requirement already satisfied: kiwisolver>=1.0.1 in /usr/local/lib/python3.6/dist-packages (from matplotlib->bsuite@ git+git://github.com/deepmind/bsuite.git#egg=bsuite ; extra == \"envs\"->dm-acme[envs]) (1.2.0)\n",
            "Requirement already satisfied: pytz>=2017.2 in /usr/local/lib/python3.6/dist-packages (from pandas->bsuite@ git+git://github.com/deepmind/bsuite.git#egg=bsuite ; extra == \"envs\"->dm-acme[envs]) (2018.9)\n",
            "Requirement already satisfied: descartes>=1.1.0 in /usr/local/lib/python3.6/dist-packages (from plotnine->bsuite@ git+git://github.com/deepmind/bsuite.git#egg=bsuite ; extra == \"envs\"->dm-acme[envs]) (1.1.0)\n",
            "Requirement already satisfied: mizani>=0.6.0 in /usr/local/lib/python3.6/dist-packages (from plotnine->bsuite@ git+git://github.com/deepmind/bsuite.git#egg=bsuite ; extra == \"envs\"->dm-acme[envs]) (0.6.0)\n",
            "Requirement already satisfied: patsy>=0.4.1 in /usr/local/lib/python3.6/dist-packages (from plotnine->bsuite@ git+git://github.com/deepmind/bsuite.git#egg=bsuite ; extra == \"envs\"->dm-acme[envs]) (0.5.1)\n",
            "Requirement already satisfied: statsmodels>=0.9.0 in /usr/local/lib/python3.6/dist-packages (from plotnine->bsuite@ git+git://github.com/deepmind/bsuite.git#egg=bsuite ; extra == \"envs\"->dm-acme[envs]) (0.10.2)\n",
            "Requirement already satisfied: imageio>=2.3.0 in /usr/local/lib/python3.6/dist-packages (from scikit-image->bsuite@ git+git://github.com/deepmind/bsuite.git#egg=bsuite ; extra == \"envs\"->dm-acme[envs]) (2.4.1)\n",
            "Requirement already satisfied: PyWavelets>=0.4.0 in /usr/local/lib/python3.6/dist-packages (from scikit-image->bsuite@ git+git://github.com/deepmind/bsuite.git#egg=bsuite ; extra == \"envs\"->dm-acme[envs]) (1.1.1)\n",
            "Requirement already satisfied: networkx>=2.0 in /usr/local/lib/python3.6/dist-packages (from scikit-image->bsuite@ git+git://github.com/deepmind/bsuite.git#egg=bsuite ; extra == \"envs\"->dm-acme[envs]) (2.4)\n",
            "Requirement already satisfied: palettable in /usr/local/lib/python3.6/dist-packages (from mizani>=0.6.0->plotnine->bsuite@ git+git://github.com/deepmind/bsuite.git#egg=bsuite ; extra == \"envs\"->dm-acme[envs]) (3.3.0)\n",
            "Requirement already satisfied: decorator>=4.3.0 in /usr/local/lib/python3.6/dist-packages (from networkx>=2.0->scikit-image->bsuite@ git+git://github.com/deepmind/bsuite.git#egg=bsuite ; extra == \"envs\"->dm-acme[envs]) (4.4.2)\n",
            "Building wheels for collected packages: bsuite, frozendict\n",
            "  Building wheel for bsuite (setup.py) ... \u001b[?25l\u001b[?25hdone\n",
            "  Created wheel for bsuite: filename=bsuite-0.3.2-py3-none-any.whl size=248953 sha256=c732ea1b4f82a32f0f48857227ac2b75d19c5d3f2630723b1d40b2b2e7b0f40f\n",
            "  Stored in directory: /tmp/pip-ephem-wheel-cache-5d4bzec5/wheels/d3/dc/11/1836d2861808f8c6350839a21b25783e4d40a510418c41d373\n",
            "  Building wheel for frozendict (setup.py) ... \u001b[?25l\u001b[?25hdone\n",
            "  Created wheel for frozendict: filename=frozendict-1.2-py3-none-any.whl size=3148 sha256=5f22cd19d7bfccddbdfb37c1db048b628035e31185779815de8a4a2c03a6af3c\n",
            "  Stored in directory: /root/.cache/pip/wheels/c9/13/a1/b4f2255117a7dccdd6219408dce1d87446716b1bf77451cb97\n",
            "Successfully built bsuite frozendict\n",
            "Installing collected packages: frozendict, bsuite, glfw, dm-control\n",
            "Successfully installed bsuite-0.3.2 dm-control-0.0.300771433 frozendict-1.2 glfw-1.11.2\n"
          ],
          "name": "stdout"
        }
      ]
    },
    {
      "cell_type": "code",
      "metadata": {
        "id": "K_oVXbEzfWWi",
        "colab_type": "code",
        "colab": {}
      },
      "source": [
        "import acme\n"
      ],
      "execution_count": 10,
      "outputs": []
    },
    {
      "cell_type": "code",
      "metadata": {
        "id": "KxjyL2c8fbJ6",
        "colab_type": "code",
        "colab": {}
      },
      "source": [
        ""
      ],
      "execution_count": null,
      "outputs": []
    }
  ]
}