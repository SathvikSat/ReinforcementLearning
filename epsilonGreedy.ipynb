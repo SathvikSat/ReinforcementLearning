{
 "cells": [
  {
   "cell_type": "code",
   "execution_count": 323,
   "metadata": {},
   "outputs": [],
   "source": [
    "import numpy as np\n",
    "import random"
   ]
  },
  {
   "cell_type": "code",
   "execution_count": 324,
   "metadata": {},
   "outputs": [
    {
     "data": {
      "text/plain": [
       "[0.08832481619884021,\n",
       " 0.02322960587348727,\n",
       " 0.091398819221613,\n",
       " 0.09656071722308027,\n",
       " 0.010047605441054675]"
      ]
     },
     "execution_count": 324,
     "metadata": {},
     "output_type": "execute_result"
    }
   ],
   "source": [
    "class EpsilonGreedy:\n",
    "    def __init__(self, epsilon, num_arms):\n",
    "        self.epsilon = epsilon\n",
    "        self.num_arms = num_arms \n",
    "        self.count = [0] * num_arms #number of pulls of any arm\n",
    "        self.value = [0] * num_arms #average rewards\n",
    "        \n",
    "    def SelectArm(self):\n",
    "        if random.uniform(0,1) > self.epsilon: #exploit\n",
    "            #index of best arm\n",
    "            i = np.argmax(self.value)\n",
    "            \n",
    "            return i\n",
    "        else: #explore\n",
    "            #Index of randomly selected arm\n",
    "            return random.randint(0, self.num_arms-1)\n",
    "        \n",
    "\n",
    "    def UpdateReward(self,i, reward):\n",
    "        #n is used for moving average\n",
    "        n = self.count[i] + 1\n",
    "        v = self.value[i]\n",
    "        self.value[i] = ( v * (n-1) + reward) / n\n",
    "    \n",
    "    \n",
    "    \n",
    "class distributionOfSlotMachines:    \n",
    "    def __init__(self, p):\n",
    "        self.p = p #probability of getting reward, ie. when user is presented with an arm, does he pull it or not\n",
    "    \n",
    "    def pull(self):\n",
    "        return (lambda: 0, lambda: 1) [random.uniform(0,1) > self.p]()\n",
    "        return 1\n",
    "    \n",
    "    \n",
    "#reward Distribution\n",
    "             \n",
    "arms = [0] * 5\n",
    "for i in range(0,5):\n",
    "        arms[i] = random.uniform(0,1)/10 \n",
    "        \n",
    "\n",
    "        \n",
    "        \n",
    "arms        "
   ]
  },
  {
   "cell_type": "code",
   "execution_count": 325,
   "metadata": {},
   "outputs": [],
   "source": [
    "#passing the reference of the class to be tested\n",
    "#obj is the object used\n",
    "def test(EpsilonGreedy, arms, TimeStamp, distributionOfSlotMachines):\n",
    "    args = (0.1, 5)#change it as function parameter\n",
    "    obj = EpsilonGreedy(*args)\n",
    "    idx = args[1]\n",
    "    \n",
    "    \n",
    "    ChoosenArms = [0] * TimeStamp\n",
    "    #obj.pull()\n",
    "    \n",
    "    for t in range(0,TimeStamp):\n",
    "        i = obj.SelectArm()\n",
    "        dist_ = (arms[i])\n",
    "        obj1 = distributionOfSlotMachines(dist_)\n",
    "  \n",
    "        arm = arms[i]\n",
    "        reward = obj1.pull()\n",
    "        obj.UpdateReward(i, reward)\n",
    "        \n",
    "        ChoosenArms[t] = i\n",
    "        \n",
    "    final = [0] *5     \n",
    "    for i in range(0, t):\n",
    "        if ChoosenArms[i] == 0:\n",
    "            final[0] = final[0] + 1\n",
    "\n",
    "        if ChoosenArms[i] == 1:\n",
    "            final[1] = final[1] + 1\n",
    "\n",
    "        if ChoosenArms[i] == 2:\n",
    "            final[2] = final[2] + 1\n",
    "\n",
    "        if ChoosenArms[i] == 3:\n",
    "            final[3] = final[3] + 1\n",
    "\n",
    "        if ChoosenArms[i] == 4:\n",
    "            final[4] = final[4] + 1\n",
    "    \n",
    "            \n",
    "            \n",
    "            \n",
    "            \n",
    "            \n",
    "    return (final)    "
   ]
  },
  {
   "cell_type": "code",
   "execution_count": 326,
   "metadata": {},
   "outputs": [
    {
     "name": "stdout",
     "output_type": "stream",
     "text": [
      "[1988, 4381, 1152, 991, 1487]\n"
     ]
    }
   ],
   "source": [
    "k = test(EpsilonGreedy, arms, 10000, distributionOfSlotMachines)\n",
    "print(k)"
   ]
  },
  {
   "cell_type": "code",
   "execution_count": null,
   "metadata": {},
   "outputs": [],
   "source": []
  },
  {
   "cell_type": "code",
   "execution_count": null,
   "metadata": {},
   "outputs": [],
   "source": []
  },
  {
   "cell_type": "code",
   "execution_count": null,
   "metadata": {},
   "outputs": [],
   "source": []
  },
  {
   "cell_type": "code",
   "execution_count": null,
   "metadata": {},
   "outputs": [],
   "source": []
  },
  {
   "cell_type": "code",
   "execution_count": null,
   "metadata": {},
   "outputs": [],
   "source": []
  },
  {
   "cell_type": "code",
   "execution_count": null,
   "metadata": {},
   "outputs": [],
   "source": []
  },
  {
   "cell_type": "code",
   "execution_count": null,
   "metadata": {},
   "outputs": [],
   "source": []
  },
  {
   "cell_type": "code",
   "execution_count": null,
   "metadata": {},
   "outputs": [],
   "source": []
  },
  {
   "cell_type": "code",
   "execution_count": null,
   "metadata": {},
   "outputs": [],
   "source": []
  },
  {
   "cell_type": "code",
   "execution_count": null,
   "metadata": {},
   "outputs": [],
   "source": []
  },
  {
   "cell_type": "code",
   "execution_count": null,
   "metadata": {},
   "outputs": [],
   "source": []
  },
  {
   "cell_type": "code",
   "execution_count": null,
   "metadata": {},
   "outputs": [],
   "source": []
  }
 ],
 "metadata": {
  "kernelspec": {
   "display_name": "Python 3",
   "language": "python",
   "name": "python3"
  },
  "language_info": {
   "codemirror_mode": {
    "name": "ipython",
    "version": 3
   },
   "file_extension": ".py",
   "mimetype": "text/x-python",
   "name": "python",
   "nbconvert_exporter": "python",
   "pygments_lexer": "ipython3",
   "version": "3.6.10"
  }
 },
 "nbformat": 4,
 "nbformat_minor": 4
}
